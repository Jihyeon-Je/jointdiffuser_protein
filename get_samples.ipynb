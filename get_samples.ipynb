{
 "cells": [
  {
   "cell_type": "code",
   "execution_count": 1,
   "metadata": {},
   "outputs": [
    {
     "name": "stdout",
     "output_type": "stream",
     "text": [
      "attention mode is math\n"
     ]
    }
   ],
   "source": [
    "import ml_collections\n",
    "import torch\n",
    "import random\n",
    "import utils\n",
    "from dpm_solver_pp import NoiseScheduleVP, DPM_Solver\n",
    "from absl import logging\n",
    "import einops\n",
    "import libs.autoencoder\n",
    "import libs.clip\n",
    "from torchvision.utils import save_image, make_grid\n",
    "import torchvision.transforms as standard_transforms\n",
    "import numpy as np\n",
    "import clip\n",
    "from PIL import Image\n",
    "from libs.uvit_t2i import UViT"
   ]
  },
  {
   "cell_type": "code",
   "execution_count": 2,
   "metadata": {},
   "outputs": [],
   "source": [
    "from run_train import stable_diffusion_beta_schedule, split_joint, combine_joint, Schedule"
   ]
  },
  {
   "cell_type": "code",
   "execution_count": 3,
   "metadata": {},
   "outputs": [],
   "source": [
    "seed = 1234 #@param {type:\"number\"}\n",
    "steps = 50 #@param {type:\"slider\", min:0, max:100, step:1}\n",
    "cfg_scale = 8 #@param {type:\"slider\", min:0, max:10, step:0.1}\n",
    "n_samples = 2 #@param {type:\"number\"}\n",
    "nrow = 2 #@param {type:\"number\"}\n",
    "data_type = 1\n",
    "output_path = '/Users/jihyeonje/unidiffuser/test'\n",
    "device = 'cpu'\n"
   ]
  },
  {
   "cell_type": "code",
   "execution_count": 4,
   "metadata": {},
   "outputs": [
    {
     "ename": "FileNotFoundError",
     "evalue": "[Errno 2] No such file or directory: '/Users/jihyeonje/unidiffuser/test/5.ckpt/nnet.pth'",
     "output_type": "error",
     "traceback": [
      "\u001b[0;31m---------------------------------------------------------------------------\u001b[0m",
      "\u001b[0;31mFileNotFoundError\u001b[0m                         Traceback (most recent call last)",
      "\u001b[1;32m/Users/jihyeonje/unidiffuser/get_samples.ipynb Cell 4\u001b[0m line \u001b[0;36m1\n\u001b[1;32m      <a href='vscode-notebook-cell:/Users/jihyeonje/unidiffuser/get_samples.ipynb#W3sZmlsZQ%3D%3D?line=0'>1</a>\u001b[0m nnet \u001b[39m=\u001b[39m UViT(\n\u001b[1;32m      <a href='vscode-notebook-cell:/Users/jihyeonje/unidiffuser/get_samples.ipynb#W3sZmlsZQ%3D%3D?line=1'>2</a>\u001b[0m     img_size\u001b[39m=\u001b[39m\u001b[39m1296\u001b[39m,\n\u001b[1;32m      <a href='vscode-notebook-cell:/Users/jihyeonje/unidiffuser/get_samples.ipynb#W3sZmlsZQ%3D%3D?line=2'>3</a>\u001b[0m     in_chans\u001b[39m=\u001b[39m\u001b[39m3\u001b[39m,\n\u001b[0;32m   (...)\u001b[0m\n\u001b[1;32m     <a href='vscode-notebook-cell:/Users/jihyeonje/unidiffuser/get_samples.ipynb#W3sZmlsZQ%3D%3D?line=11'>12</a>\u001b[0m     num_clip_token\u001b[39m=\u001b[39m\u001b[39m77\u001b[39m\n\u001b[1;32m     <a href='vscode-notebook-cell:/Users/jihyeonje/unidiffuser/get_samples.ipynb#W3sZmlsZQ%3D%3D?line=12'>13</a>\u001b[0m )\n\u001b[1;32m     <a href='vscode-notebook-cell:/Users/jihyeonje/unidiffuser/get_samples.ipynb#W3sZmlsZQ%3D%3D?line=15'>16</a>\u001b[0m nnet\u001b[39m.\u001b[39mto(device)\n\u001b[0;32m---> <a href='vscode-notebook-cell:/Users/jihyeonje/unidiffuser/get_samples.ipynb#W3sZmlsZQ%3D%3D?line=16'>17</a>\u001b[0m nnet\u001b[39m.\u001b[39mload_state_dict(torch\u001b[39m.\u001b[39;49mload(\u001b[39m'\u001b[39;49m\u001b[39m/Users/jihyeonje/unidiffuser/test/5.ckpt/nnet.pth\u001b[39;49m\u001b[39m'\u001b[39;49m, map_location\u001b[39m=\u001b[39;49m\u001b[39m'\u001b[39;49m\u001b[39mcpu\u001b[39;49m\u001b[39m'\u001b[39;49m))\n\u001b[1;32m     <a href='vscode-notebook-cell:/Users/jihyeonje/unidiffuser/get_samples.ipynb#W3sZmlsZQ%3D%3D?line=17'>18</a>\u001b[0m nnet\u001b[39m.\u001b[39meval()\n",
      "File \u001b[0;32m~/opt/anaconda3/envs/unidiffuser/lib/python3.9/site-packages/torch/serialization.py:771\u001b[0m, in \u001b[0;36mload\u001b[0;34m(f, map_location, pickle_module, weights_only, **pickle_load_args)\u001b[0m\n\u001b[1;32m    768\u001b[0m \u001b[39mif\u001b[39;00m \u001b[39m'\u001b[39m\u001b[39mencoding\u001b[39m\u001b[39m'\u001b[39m \u001b[39mnot\u001b[39;00m \u001b[39min\u001b[39;00m pickle_load_args\u001b[39m.\u001b[39mkeys():\n\u001b[1;32m    769\u001b[0m     pickle_load_args[\u001b[39m'\u001b[39m\u001b[39mencoding\u001b[39m\u001b[39m'\u001b[39m] \u001b[39m=\u001b[39m \u001b[39m'\u001b[39m\u001b[39mutf-8\u001b[39m\u001b[39m'\u001b[39m\n\u001b[0;32m--> 771\u001b[0m \u001b[39mwith\u001b[39;00m _open_file_like(f, \u001b[39m'\u001b[39;49m\u001b[39mrb\u001b[39;49m\u001b[39m'\u001b[39;49m) \u001b[39mas\u001b[39;00m opened_file:\n\u001b[1;32m    772\u001b[0m     \u001b[39mif\u001b[39;00m _is_zipfile(opened_file):\n\u001b[1;32m    773\u001b[0m         \u001b[39m# The zipfile reader is going to advance the current file position.\u001b[39;00m\n\u001b[1;32m    774\u001b[0m         \u001b[39m# If we want to actually tail call to torch.jit.load, we need to\u001b[39;00m\n\u001b[1;32m    775\u001b[0m         \u001b[39m# reset back to the original position.\u001b[39;00m\n\u001b[1;32m    776\u001b[0m         orig_position \u001b[39m=\u001b[39m opened_file\u001b[39m.\u001b[39mtell()\n",
      "File \u001b[0;32m~/opt/anaconda3/envs/unidiffuser/lib/python3.9/site-packages/torch/serialization.py:270\u001b[0m, in \u001b[0;36m_open_file_like\u001b[0;34m(name_or_buffer, mode)\u001b[0m\n\u001b[1;32m    268\u001b[0m \u001b[39mdef\u001b[39;00m \u001b[39m_open_file_like\u001b[39m(name_or_buffer, mode):\n\u001b[1;32m    269\u001b[0m     \u001b[39mif\u001b[39;00m _is_path(name_or_buffer):\n\u001b[0;32m--> 270\u001b[0m         \u001b[39mreturn\u001b[39;00m _open_file(name_or_buffer, mode)\n\u001b[1;32m    271\u001b[0m     \u001b[39melse\u001b[39;00m:\n\u001b[1;32m    272\u001b[0m         \u001b[39mif\u001b[39;00m \u001b[39m'\u001b[39m\u001b[39mw\u001b[39m\u001b[39m'\u001b[39m \u001b[39min\u001b[39;00m mode:\n",
      "File \u001b[0;32m~/opt/anaconda3/envs/unidiffuser/lib/python3.9/site-packages/torch/serialization.py:251\u001b[0m, in \u001b[0;36m_open_file.__init__\u001b[0;34m(self, name, mode)\u001b[0m\n\u001b[1;32m    250\u001b[0m \u001b[39mdef\u001b[39;00m \u001b[39m__init__\u001b[39m(\u001b[39mself\u001b[39m, name, mode):\n\u001b[0;32m--> 251\u001b[0m     \u001b[39msuper\u001b[39m(_open_file, \u001b[39mself\u001b[39m)\u001b[39m.\u001b[39m\u001b[39m__init__\u001b[39m(\u001b[39mopen\u001b[39;49m(name, mode))\n",
      "\u001b[0;31mFileNotFoundError\u001b[0m: [Errno 2] No such file or directory: '/Users/jihyeonje/unidiffuser/test/5.ckpt/nnet.pth'"
     ]
    }
   ],
   "source": [
    "nnet = UViT(\n",
    "    img_size=1296,\n",
    "    in_chans=3,\n",
    "    patch_size=4,\n",
    "    embed_dim=100,\n",
    "    depth=12,\n",
    "    num_heads=10,\n",
    "    mlp_ratio=4,\n",
    "    qkv_bias=False,\n",
    "    mlp_time_embed=False,\n",
    "    clip_dim=19,\n",
    "    num_clip_token=77\n",
    ")\n",
    "\n",
    "\n",
    "nnet.to(device)\n",
    "nnet.load_state_dict(torch.load('/Users/jihyeonje/unidiffuser/test/5.ckpt/nnet.pth', map_location='cpu'))\n",
    "nnet.eval()"
   ]
  },
  {
   "cell_type": "code",
   "execution_count": null,
   "metadata": {},
   "outputs": [],
   "source": [
    "_betas = stable_diffusion_beta_schedule()\n",
    "N = len(_betas)\n",
    "_schedule = Schedule(_betas)\n"
   ]
  },
  {
   "cell_type": "code",
   "execution_count": null,
   "metadata": {},
   "outputs": [],
   "source": [
    "\n",
    "def joint_nnet(x, timesteps):\n",
    "    z, text = split_joint(x)\n",
    "    z_out, text_out = nnet(z, t_prot=timesteps, t_lig=timesteps, context = text)\n",
    "    if len(z_out.shape)==3:\n",
    "        z_out = torch.unsqueeze(z_out, 0)\n",
    "        text_out = torch.unsqueeze(text_out, 0)\n",
    "    x_out = combine_joint(z_out, text_out)\n",
    "\n",
    "    return x_out\n",
    "\n",
    "def sample_fn(_n_samples, sample_steps):\n",
    "    _z_init = torch.randn(_n_samples, *(3,1296,4), device=device)\n",
    "    _t_init = torch.randn(_n_samples, *(100,19), device=device)\n",
    "    _x_init = combine_joint(_z_init, _t_init)\n",
    "    noise_schedule = NoiseScheduleVP(schedule='discrete', betas=torch.tensor(_betas, device=device).float())\n",
    "\n",
    "    def model_fn(x, t_continuous):\n",
    "        t = t_continuous * _schedule.N\n",
    "        return joint_nnet(_x_init, t)\n",
    "\n",
    "    dpm_solver = DPM_Solver(model_fn, noise_schedule, predict_x0=True, thresholding=False)\n",
    "    _z = dpm_solver.sample(_x_init, steps=sample_steps, eps=1. / _schedule.N, T=1.)\n",
    "    prot, lig = split_joint(_z)\n",
    "    return prot, lig\n",
    "\n",
    "\n",
    "\n"
   ]
  },
  {
   "cell_type": "code",
   "execution_count": null,
   "metadata": {},
   "outputs": [],
   "source": [
    "_z, _text = sample_fn(_n_samples=5, sample_steps=5)"
   ]
  },
  {
   "cell_type": "code",
   "execution_count": null,
   "metadata": {},
   "outputs": [],
   "source": [
    "xyz = _text[3][:,:3]\n",
    "one_hot = _text[3][:,3:]\n",
    "one_hot = np.argmax(one_hot, axis=1)"
   ]
  },
  {
   "cell_type": "code",
   "execution_count": null,
   "metadata": {},
   "outputs": [],
   "source": [
    "from datasets import atom_encoder, atom_decoder\n",
    "from chem_utils import get_bond_order, allowed_bonds, draw_mol, BasicMolecularMetrics"
   ]
  },
  {
   "cell_type": "code",
   "execution_count": 5,
   "metadata": {},
   "outputs": [
    {
     "ename": "NameError",
     "evalue": "name 'draw_mol' is not defined",
     "output_type": "error",
     "traceback": [
      "\u001b[0;31m---------------------------------------------------------------------------\u001b[0m",
      "\u001b[0;31mNameError\u001b[0m                                 Traceback (most recent call last)",
      "\u001b[1;32m/Users/jihyeonje/unidiffuser/get_samples.ipynb Cell 10\u001b[0m line \u001b[0;36m1\n\u001b[0;32m----> <a href='vscode-notebook-cell:/Users/jihyeonje/unidiffuser/get_samples.ipynb#X14sZmlsZQ%3D%3D?line=0'>1</a>\u001b[0m draw_mol(xyz)\n",
      "\u001b[0;31mNameError\u001b[0m: name 'draw_mol' is not defined"
     ]
    }
   ],
   "source": [
    "draw_mol(xyz)"
   ]
  },
  {
   "cell_type": "code",
   "execution_count": null,
   "metadata": {},
   "outputs": [],
   "source": []
  }
 ],
 "metadata": {
  "kernelspec": {
   "display_name": "unidiffuser",
   "language": "python",
   "name": "python3"
  },
  "language_info": {
   "codemirror_mode": {
    "name": "ipython",
    "version": 3
   },
   "file_extension": ".py",
   "mimetype": "text/x-python",
   "name": "python",
   "nbconvert_exporter": "python",
   "pygments_lexer": "ipython3",
   "version": "3.9.18"
  }
 },
 "nbformat": 4,
 "nbformat_minor": 2
}
