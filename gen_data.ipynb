{
 "cells": [
  {
   "cell_type": "code",
   "execution_count": 1,
   "metadata": {},
   "outputs": [],
   "source": [
    "from rdkit import Chem                                                                                                                                                                   \n",
    "from rdkit import RDLogger          \n",
    "from rdkit.Chem import AllChem\n",
    "from tqdm.auto import tqdm\n",
    "       \n",
    "import numpy as np                                                                                                                              \n",
    "import os\n",
    "from torch.utils.data import Dataset\n",
    "import protein\n",
    "import residue_constants\n",
    "from datasets import LigProtDatabase\n",
    "\n",
    "import torch\n",
    "import torch.nn.functional as F\n",
    "\n",
    "\n",
    "\n",
    "RDLogger.DisableLog('rdApp.*')                                                                                                                                                           \n"
   ]
  },
  {
   "cell_type": "code",
   "execution_count": 2,
   "metadata": {},
   "outputs": [],
   "source": [
    "\n",
    "directory = '/Users/jihyeonje/Downloads/PDBBind_processed/'\n",
    "ligpaths = []\n",
    "protpaths = []\n",
    "\n",
    "# iterate over files in\n",
    "# that directory\n",
    "for dir in os.listdir(directory):\n",
    "    if dir !='.DS_Store':\n",
    "        foldr = os.path.join(directory, dir)\n",
    "    for i in os.listdir(foldr):\n",
    "        if i.endswith('.sdf'):\n",
    "            ligpaths.append(os.path.join(foldr, i))\n",
    "        elif i.endswith('.pdb'):\n",
    "            protpaths.append(os.path.join(foldr, i))"
   ]
  },
  {
   "cell_type": "code",
   "execution_count": 3,
   "metadata": {},
   "outputs": [
    {
     "name": "stdout",
     "output_type": "stream",
     "text": [
      "fail\n",
      "fail\n",
      "fail\n",
      "fail\n",
      "fail\n",
      "fail\n",
      "fail\n"
     ]
    }
   ],
   "source": [
    "clean_ligpaths = []\n",
    "clean_protpaths = []\n",
    "for i in range(50):\n",
    "    suppl = Chem.SDMolSupplier(ligpaths[i])\n",
    "    if suppl is None: continue\n",
    "    try:\n",
    "        updated_mol= Chem.AddHs(suppl[0])\n",
    "        AllChem.EmbedMolecule(updated_mol)\n",
    "        clean_ligpaths.append(ligpaths[i])\n",
    "        clean_protpaths.append(protpaths[i])\n",
    "    except:\n",
    "        print('fail')\n",
    "        pass\n"
   ]
  },
  {
   "cell_type": "code",
   "execution_count": 4,
   "metadata": {},
   "outputs": [],
   "source": [
    "def make_train_valid_dfs(protpaths, ligpaths):\n",
    "    max_id = len(protpaths)\n",
    "    image_ids = np.arange(0, max_id)\n",
    "    np.random.seed(42)\n",
    "    valid_ids = np.random.choice(\n",
    "        image_ids, size=int(0.2 * len(image_ids)), replace=False\n",
    "    )\n",
    "    train_ids = [id_ for id_ in image_ids if id_ not in valid_ids]\n",
    "    train_prot = list(map(protpaths.__getitem__, train_ids))\n",
    "    train_ligs = list(map(ligpaths.__getitem__, train_ids))\n",
    "    valid_prot = list(map(protpaths.__getitem__, valid_ids))\n",
    "    valid_ligs = list(map(ligpaths.__getitem__, valid_ids))\n",
    "    return train_prot, train_ligs, valid_prot, valid_ligs\n"
   ]
  },
  {
   "cell_type": "code",
   "execution_count": 5,
   "metadata": {},
   "outputs": [],
   "source": [
    "train_prot, train_lig, valid_prot, valid_lig = make_train_valid_dfs(clean_protpaths, clean_ligpaths)"
   ]
  },
  {
   "cell_type": "code",
   "execution_count": 6,
   "metadata": {},
   "outputs": [],
   "source": [
    "datas = LigProtDatabase(protpaths = train_prot, ligpaths = train_lig)\n",
    "save_dir = f'/Users/jihyeonje/unidiffuser/test/feats/train'"
   ]
  },
  {
   "cell_type": "code",
   "execution_count": 9,
   "metadata": {},
   "outputs": [
    {
     "data": {
      "application/vnd.jupyter.widget-view+json": {
       "model_id": "5f5ae09ca65a4c9f8971bfcafca91e9f",
       "version_major": 2,
       "version_minor": 0
      },
      "text/plain": [
       "0it [00:00, ?it/s]"
      ]
     },
     "metadata": {},
     "output_type": "display_data"
    },
    {
     "name": "stderr",
     "output_type": "stream",
     "text": [
      "/Users/jihyeonje/unidiffuser/datasets.py:618: UserWarning: To copy construct from a tensor, it is recommended to use sourceTensor.clone().detach() or sourceTensor.clone().detach().requires_grad_(True), rather than torch.tensor(sourceTensor).\n",
      "  ligand = torch.cat([torch.tensor(x), torch.tensor(one_hot)], dim=1)\n",
      "/Users/jihyeonje/opt/anaconda3/envs/unidiffuser/lib/python3.9/site-packages/numpy/lib/npyio.py:518: VisibleDeprecationWarning: Creating an ndarray from ragged nested sequences (which is a list-or-tuple of lists-or-tuples-or ndarrays with different lengths or shapes) is deprecated. If you meant to do this, you must specify 'dtype=object' when creating the ndarray.\n",
      "  arr = np.asanyarray(arr)\n",
      "/Users/jihyeonje/unidiffuser/datasets.py:618: UserWarning: To copy construct from a tensor, it is recommended to use sourceTensor.clone().detach() or sourceTensor.clone().detach().requires_grad_(True), rather than torch.tensor(sourceTensor).\n",
      "  ligand = torch.cat([torch.tensor(x), torch.tensor(one_hot)], dim=1)\n",
      "/Users/jihyeonje/opt/anaconda3/envs/unidiffuser/lib/python3.9/site-packages/numpy/lib/npyio.py:518: VisibleDeprecationWarning: Creating an ndarray from ragged nested sequences (which is a list-or-tuple of lists-or-tuples-or ndarrays with different lengths or shapes) is deprecated. If you meant to do this, you must specify 'dtype=object' when creating the ndarray.\n",
      "  arr = np.asanyarray(arr)\n",
      "/Users/jihyeonje/unidiffuser/datasets.py:618: UserWarning: To copy construct from a tensor, it is recommended to use sourceTensor.clone().detach() or sourceTensor.clone().detach().requires_grad_(True), rather than torch.tensor(sourceTensor).\n",
      "  ligand = torch.cat([torch.tensor(x), torch.tensor(one_hot)], dim=1)\n",
      "/Users/jihyeonje/opt/anaconda3/envs/unidiffuser/lib/python3.9/site-packages/numpy/lib/npyio.py:518: VisibleDeprecationWarning: Creating an ndarray from ragged nested sequences (which is a list-or-tuple of lists-or-tuples-or ndarrays with different lengths or shapes) is deprecated. If you meant to do this, you must specify 'dtype=object' when creating the ndarray.\n",
      "  arr = np.asanyarray(arr)\n",
      "/Users/jihyeonje/unidiffuser/datasets.py:618: UserWarning: To copy construct from a tensor, it is recommended to use sourceTensor.clone().detach() or sourceTensor.clone().detach().requires_grad_(True), rather than torch.tensor(sourceTensor).\n",
      "  ligand = torch.cat([torch.tensor(x), torch.tensor(one_hot)], dim=1)\n",
      "/Users/jihyeonje/opt/anaconda3/envs/unidiffuser/lib/python3.9/site-packages/numpy/lib/npyio.py:518: VisibleDeprecationWarning: Creating an ndarray from ragged nested sequences (which is a list-or-tuple of lists-or-tuples-or ndarrays with different lengths or shapes) is deprecated. If you meant to do this, you must specify 'dtype=object' when creating the ndarray.\n",
      "  arr = np.asanyarray(arr)\n",
      "/Users/jihyeonje/unidiffuser/datasets.py:618: UserWarning: To copy construct from a tensor, it is recommended to use sourceTensor.clone().detach() or sourceTensor.clone().detach().requires_grad_(True), rather than torch.tensor(sourceTensor).\n",
      "  ligand = torch.cat([torch.tensor(x), torch.tensor(one_hot)], dim=1)\n",
      "/Users/jihyeonje/opt/anaconda3/envs/unidiffuser/lib/python3.9/site-packages/numpy/lib/npyio.py:518: VisibleDeprecationWarning: Creating an ndarray from ragged nested sequences (which is a list-or-tuple of lists-or-tuples-or ndarrays with different lengths or shapes) is deprecated. If you meant to do this, you must specify 'dtype=object' when creating the ndarray.\n",
      "  arr = np.asanyarray(arr)\n",
      "/Users/jihyeonje/unidiffuser/datasets.py:618: UserWarning: To copy construct from a tensor, it is recommended to use sourceTensor.clone().detach() or sourceTensor.clone().detach().requires_grad_(True), rather than torch.tensor(sourceTensor).\n",
      "  ligand = torch.cat([torch.tensor(x), torch.tensor(one_hot)], dim=1)\n",
      "/Users/jihyeonje/opt/anaconda3/envs/unidiffuser/lib/python3.9/site-packages/numpy/lib/npyio.py:518: VisibleDeprecationWarning: Creating an ndarray from ragged nested sequences (which is a list-or-tuple of lists-or-tuples-or ndarrays with different lengths or shapes) is deprecated. If you meant to do this, you must specify 'dtype=object' when creating the ndarray.\n",
      "  arr = np.asanyarray(arr)\n",
      "/Users/jihyeonje/unidiffuser/datasets.py:618: UserWarning: To copy construct from a tensor, it is recommended to use sourceTensor.clone().detach() or sourceTensor.clone().detach().requires_grad_(True), rather than torch.tensor(sourceTensor).\n",
      "  ligand = torch.cat([torch.tensor(x), torch.tensor(one_hot)], dim=1)\n",
      "/Users/jihyeonje/opt/anaconda3/envs/unidiffuser/lib/python3.9/site-packages/numpy/lib/npyio.py:518: VisibleDeprecationWarning: Creating an ndarray from ragged nested sequences (which is a list-or-tuple of lists-or-tuples-or ndarrays with different lengths or shapes) is deprecated. If you meant to do this, you must specify 'dtype=object' when creating the ndarray.\n",
      "  arr = np.asanyarray(arr)\n",
      "/Users/jihyeonje/unidiffuser/datasets.py:618: UserWarning: To copy construct from a tensor, it is recommended to use sourceTensor.clone().detach() or sourceTensor.clone().detach().requires_grad_(True), rather than torch.tensor(sourceTensor).\n",
      "  ligand = torch.cat([torch.tensor(x), torch.tensor(one_hot)], dim=1)\n",
      "/Users/jihyeonje/opt/anaconda3/envs/unidiffuser/lib/python3.9/site-packages/numpy/lib/npyio.py:518: VisibleDeprecationWarning: Creating an ndarray from ragged nested sequences (which is a list-or-tuple of lists-or-tuples-or ndarrays with different lengths or shapes) is deprecated. If you meant to do this, you must specify 'dtype=object' when creating the ndarray.\n",
      "  arr = np.asanyarray(arr)\n"
     ]
    }
   ],
   "source": [
    "for idx, data in tqdm(enumerate(datas)):\n",
    "    if data is not None:\n",
    "        prot, lig = data\n",
    "        \n",
    "        c_pad = torch.zeros(3, 1296 - prot.shape[1], 4)\n",
    "        prot = torch.cat([prot, c_pad], dim=1)\n",
    "    \n",
    "        pad_lig = torch.zeros(100, lig.shape[1])\n",
    "        pad_lig[:lig.shape[0], :] = lig\n",
    "        prot = prot.detach().cpu().numpy()\n",
    "        lig = pad_lig.detach().cpu().numpy()\n",
    "        np.save(os.path.join(save_dir, f'{idx}.npy'), (prot,lig))\n",
    "\n"
   ]
  },
  {
   "cell_type": "code",
   "execution_count": 8,
   "metadata": {},
   "outputs": [],
   "source": [
    "datas = LigProtDatabase(protpaths = valid_prot, ligpaths = valid_lig)\n",
    "save_dir = f'/Users/jihyeonje/unidiffuser/test/feats/test'"
   ]
  },
  {
   "cell_type": "code",
   "execution_count": 13,
   "metadata": {},
   "outputs": [
    {
     "data": {
      "text/plain": [
       "(100, 19)"
      ]
     },
     "execution_count": 13,
     "metadata": {},
     "output_type": "execute_result"
    }
   ],
   "source": [
    "lig.shape"
   ]
  },
  {
   "cell_type": "code",
   "execution_count": 18,
   "metadata": {},
   "outputs": [],
   "source": [
    "import torch\n",
    "import os\n",
    "import numpy as np\n",
    "import libs.autoencoder\n",
    "import libs.clip\n",
    "from datasets import MSCOCODatabase\n",
    "import argparse\n",
    "from tqdm import tqdm\n",
    "\n",
    "\n",
    "def main():\n",
    "    c = torch.zeros((100,19))\n",
    "    save_dir = f'/Users/jihyeonje/unidiffuser/test/feats'\n",
    "    c = c.detach().cpu().numpy()\n",
    "    np.save(os.path.join(save_dir, f'empty_context.npy'), c)\n",
    "\n",
    "\n",
    "if __name__ == '__main__':\n",
    "    main()"
   ]
  },
  {
   "cell_type": "code",
   "execution_count": null,
   "metadata": {},
   "outputs": [],
   "source": []
  }
 ],
 "metadata": {
  "kernelspec": {
   "display_name": "unidiffuser",
   "language": "python",
   "name": "python3"
  },
  "language_info": {
   "codemirror_mode": {
    "name": "ipython",
    "version": 3
   },
   "file_extension": ".py",
   "mimetype": "text/x-python",
   "name": "python",
   "nbconvert_exporter": "python",
   "pygments_lexer": "ipython3",
   "version": "3.9.18"
  }
 },
 "nbformat": 4,
 "nbformat_minor": 2
}
